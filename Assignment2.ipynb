{
 "cells": [
  {
   "cell_type": "code",
   "execution_count": 9,
   "metadata": {},
   "outputs": [
    {
     "name": "stdout",
     "output_type": "stream",
     "text": [
      "This does not work for strings, It is type error\n"
     ]
    }
   ],
   "source": [
    "#Handling Exception\n",
    "try:\n",
    "    for i in ['a','b','c']:\n",
    "        print(i**2)\n",
    "except TypeError:\n",
    "    print(\"This does not work for strings, It is type error\")"
   ]
  },
  {
   "cell_type": "code",
   "execution_count": 5,
   "metadata": {},
   "outputs": [
    {
     "name": "stdout",
     "output_type": "stream",
     "text": [
      "Please provide different denominator\n",
      "All Done!\n"
     ]
    }
   ],
   "source": [
    "try:\n",
    "    x=5\n",
    "    y=0\n",
    "    print(x/y)\n",
    "except ZeroDivisionError:\n",
    "    print(\"Please provide different denominator\")\n",
    "finally:\n",
    "    print(\"All Done!\")"
   ]
  },
  {
   "cell_type": "code",
   "execution_count": 2,
   "metadata": {},
   "outputs": [
    {
     "name": "stdout",
     "output_type": "stream",
     "text": [
      "Enter integer: 5\n",
      "Enter integer: 7\n",
      "Enter integer: 'd'\n",
      "Please check your input!\n",
      "{5: 2.23606797749979, 7: 2.6457513110645907}\n"
     ]
    }
   ],
   "source": [
    "try:\n",
    "    x = 1\n",
    "    d  = dict()\n",
    "    while x == 1:\n",
    "        a = int(input(\"Enter integer: \"))\n",
    "        d[a] = a**0.5\n",
    "        \n",
    "except:\n",
    "    print(\"Please check your input!\")\n",
    "finally:\n",
    "    print(d)"
   ]
  },
  {
   "cell_type": "code",
   "execution_count": 4,
   "metadata": {},
   "outputs": [
    {
     "name": "stdout",
     "output_type": "stream",
     "text": [
      "hello\n",
      "hello\n",
      "[1, 2, {'k2': ['this is tricky', {'tough': [1, 2, ['hello']]}]}]\n",
      "{'k1': [1, 2, {'k2': ['this is tricky', {'tough': [1, 2, ['hello']]}]}]}\n"
     ]
    }
   ],
   "source": [
    "d = {\n",
    "    'simple_key':'hello'\n",
    "}\n",
    "print(d['simple_key'])\n",
    "\n",
    "d = {'k1':{'k2':'hello'}}\n",
    "print(d['k1']['k2'])\n",
    "\n",
    "d= {'k1':[1,2,{'k2':['this is tricky',{'tough':[1,2,['hello']]}]}]}\n",
    "for i in d.values():\n",
    "    print(i)\n",
    "print(d)"
   ]
  },
  {
   "cell_type": "markdown",
   "metadata": {},
   "source": [
    "# from math import sqrt\n",
    "\n",
    "class Line:\n",
    "  def __init__(self,c1,c2):\n",
    "    self.c1 = c1\n",
    "    self.c2 = c2\n",
    "\n",
    "  def myfunc(self):\n",
    "    x1,y1 = self.c1\n",
    "    x2,y2 = self.c2\n",
    "    s = (y2-y1)/(x2-x1)\n",
    "    d = sqrt((x2-21)**2 + (y2-y1)**2)\n",
    "    return print(\"Distance is:\",d,'Slope is:',s)\n",
    "\n",
    "l1 = Line((4,2), (6,5))\n",
    "l1.myfunc()"
   ]
  },
  {
   "cell_type": "markdown",
   "metadata": {},
   "source": [
    "# from math import sqrt\n",
    "\n",
    "class Line:\n",
    "  def __init__(self,c1,c2):\n",
    "    self.c1 = c1\n",
    "    self.c2 = c2\n",
    "\n",
    "  def myfunc(self):\n",
    "    x1,y1 = self.c1\n",
    "    x2,y2 = self.c2\n",
    "    s = (y2-y1)/(x2-x1)\n",
    "    d = sqrt((x2-21)**2 + (y2-y1)**2)\n",
    "    return print(\"Distance is:\",d,'Slope is:',s)\n",
    "\n",
    "l1 = Line((4,2), (6,5))\n",
    "l1.myfunc()"
   ]
  },
  {
   "cell_type": "code",
   "execution_count": null,
   "metadata": {},
   "outputs": [],
   "source": [
    "from math import sqrt\n",
    "class Line: def init(self,c1,c2): self.c1 = c1 self.c2 = c2\n",
    "\n",
    "def myfunc(self): x1,y1 = self.c1 x2,y2 = self.c2 s = (y2-y1)/(x2-x1) d = sqrt((x2-21)2 + (y2-y1)2) return print(\"Distance is:\",d,'Slope is:',s)\n",
    "\n",
    "l1 = Line((4,2), (6,5)) l1.myfunc()"
   ]
  },
  {
   "cell_type": "code",
   "execution_count": 5,
   "metadata": {},
   "outputs": [
    {
     "name": "stdout",
     "output_type": "stream",
     "text": [
      "Area of cylinder is: 326.56\n",
      "Volume of cylinder is: 452.57142857142856\n"
     ]
    }
   ],
   "source": [
    "class Cylinder:\n",
    "    pi = 22/7\n",
    "    def __init__(self,r,h):\n",
    "        self.r = r\n",
    "        self.h = h\n",
    "        \n",
    "    \n",
    "    def area(self):\n",
    "        return print(\"Area of cylinder is:\",((2*3.14*self.r) * self.h) + ((3.14*self.r**2)*2))\n",
    "    \n",
    "    def volume(self):\n",
    "        return print(\"Volume of cylinder is:\", self.pi * self.r * self.r * self.h)\n",
    "    \n",
    "c1 = Cylinder(4,9)\n",
    "c1.area()\n",
    "c1.volume()"
   ]
  }
 ],
 "metadata": {
  "kernelspec": {
   "display_name": "Python 3",
   "language": "python",
   "name": "python3"
  },
  "language_info": {
   "codemirror_mode": {
    "name": "ipython",
    "version": 3
   },
   "file_extension": ".py",
   "mimetype": "text/x-python",
   "name": "python",
   "nbconvert_exporter": "python",
   "pygments_lexer": "ipython3",
   "version": "3.8.3"
  }
 },
 "nbformat": 4,
 "nbformat_minor": 4
}
