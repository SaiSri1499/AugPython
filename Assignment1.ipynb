{
 "cells": [
  {
   "cell_type": "code",
   "execution_count": null,
   "metadata": {},
   "outputs": [],
   "source": [
    "#Pyramid Structure\n",
    "\n",
    "a = int(input(\"Enter an integer: \"))\n",
    "for j in range(0,a+1):\n",
    "    for i in range(0,j):\n",
    "        print(\"*\", end='')\n",
    "\n",
    "    print('\\n')"
   ]
  },
  {
   "cell_type": "code",
   "execution_count": null,
   "metadata": {},
   "outputs": [],
   "source": [
    "#Prime Numbers\n",
    "\n",
    "x = int(input(\"enter an integer1:\"))\n",
    "y = int(input(\"enter an integer2:\"))\n",
    "for i in range(x,y):\n",
    "    if i%2!=0:\n",
    "        print(i)"
   ]
  },
  {
   "cell_type": "code",
   "execution_count": null,
   "metadata": {},
   "outputs": [],
   "source": [
    "#Rock, Paper, Scissors\n",
    "\n",
    "# r,p   p wins\n",
    "# p,s   s wins\n",
    "# r,s   r wins\n",
    "\n",
    "x= input(\"Player1 enter R/P/S: \")\n",
    "y= input(\"Player2 enter R/P/S: \")\n",
    "if x == 'R':\n",
    "    if y == 'P':\n",
    "        print(\"Player2 wins!\")\n",
    "    elif y == 'S':\n",
    "        print(\"Player1 wins!\")\n",
    "    elif y == 'R':\n",
    "        print(\"Game is draw!\")\n",
    "if x == 'P':\n",
    "    if y == 'R':\n",
    "        print(\"Player1 wins!\")\n",
    "    elif y == 'S':\n",
    "        print(\"Player2 wins!\")\n",
    "    elif y == 'P':\n",
    "        print(\"Game is draw!\")\n",
    "if x == 'S':\n",
    "    if y == 'P':\n",
    "        print(\"Player1 wins!\")\n",
    "    elif y == 'R':\n",
    "        print(\"Player2 wins!\")\n",
    "    elif y == 'S':\n",
    "        print(\"Game is draw!\")\n"
   ]
  },
  {
   "cell_type": "code",
   "execution_count": null,
   "metadata": {},
   "outputs": [],
   "source": [
    "class Student :\n",
    "\n",
    "    \n",
    "    counter = 0\n",
    "\n",
    "    \n",
    "    def __init__(self,name,year,bg) :\n",
    "\n",
    "        # instance variable or object attributes\n",
    "        self.name = name\n",
    "        self.year = year\n",
    "\n",
    "        \n",
    "        Student.counter += 1\n",
    "\n",
    "    # Create a method for printing details\n",
    "    def calculateAge(self) :\n",
    "        print(\"Age of Student is\",2021-self.year)\n",
    "\n",
    "    \n",
    "\n",
    "\n",
    "s1 = Student('Ankit',1990,\"A+\")\n",
    "s1.calculateAge()\n",
    "s2 = Student('Geetha',1980,\"O\")\n",
    "print(\"Total number of objects created: \",Student.counter)"
   ]
  }
 ],
 "metadata": {
  "kernelspec": {
   "display_name": "Python 3",
   "language": "python",
   "name": "python3"
  },
  "language_info": {
   "codemirror_mode": {
    "name": "ipython",
    "version": 3
   },
   "file_extension": ".py",
   "mimetype": "text/x-python",
   "name": "python",
   "nbconvert_exporter": "python",
   "pygments_lexer": "ipython3",
   "version": "3.8.3"
  }
 },
 "nbformat": 4,
 "nbformat_minor": 4
}
