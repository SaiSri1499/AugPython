{
 "cells": [
  {
   "cell_type": "code",
   "execution_count": 38,
   "metadata": {},
   "outputs": [
    {
     "name": "stdout",
     "output_type": "stream",
     "text": [
      "This is a pangram\n"
     ]
    }
   ],
   "source": [
    "import string\n",
    "txt = ''\n",
    "# s = 'sfsdfbsjdfsdjfhsjdfASD'\n",
    "s = \"the quick brown fox jumps over the lazy dog\"\n",
    "for i in string.ascii_lowercase:\n",
    "    if i not in s.lower():\n",
    "        txt+=i\n",
    "if txt == '':\n",
    "    print('This is a pangram')\n",
    "else:\n",
    "    print('Not a pangram')"
   ]
  },
  {
   "cell_type": "code",
   "execution_count": 9,
   "metadata": {},
   "outputs": [
    {
     "name": "stdout",
     "output_type": "stream",
     "text": [
      "PE\n",
      "ythonxample\n"
     ]
    }
   ],
   "source": [
    "s = \"PythonExample\"\n",
    "count1,count2 = 0,0\n",
    "n1, n2 = '',''\n",
    "for i in s:\n",
    "    if i.isupper():\n",
    "        count1+=1\n",
    "        n1 = n1+i\n",
    "    elif i.islower():\n",
    "        count2+=1\n",
    "        n2 = n2+i\n",
    "print(n1)\n",
    "print(n2)"
   ]
  },
  {
   "cell_type": "code",
   "execution_count": 47,
   "metadata": {},
   "outputs": [
    {
     "name": "stdout",
     "output_type": "stream",
     "text": [
      "Balance is: 98000\n",
      "Balance is: 65000\n",
      "Balance is: 110000\n",
      "Balance is: 99000\n",
      "Balance is: 180000\n",
      "No withdrawal\n",
      "Balance is: None\n"
     ]
    }
   ],
   "source": [
    "class Bank:\n",
    "    def __init__(self,owner,balance):\n",
    "        self.owner = owner\n",
    "        self.balance = balance\n",
    "    \n",
    "    def deposit(self,amount):\n",
    "        self.balance+=amount\n",
    "        return self.balance\n",
    "        \n",
    "    def withdraw(self,amount):\n",
    "        if amount < self.balance:\n",
    "            self.balance-=amount\n",
    "            return self.balance\n",
    "        else:\n",
    "            return print(\"No withdrawal\")\n",
    "       \n",
    "        \n",
    "b1 = Bank('Jyothi',75000)\n",
    "print(\"Balance is:\",b1.deposit(23000))\n",
    "print(\"Balance is:\",b1.withdraw(33000))\n",
    "print(\"Balance is:\",b1.deposit(45000))\n",
    "print(\"Balance is:\",b1.withdraw(11000))\n",
    "print(\"Balance is:\",b1.deposit(81000))\n",
    "print(\"Balance is:\",b1.withdraw(200000))"
   ]
  },
  {
   "cell_type": "code",
   "execution_count": 63,
   "metadata": {},
   "outputs": [
    {
     "name": "stdout",
     "output_type": "stream",
     "text": [
      "bhavyameka@gmail.com.\n"
     ]
    }
   ],
   "source": [
    "import re\n",
    "str = 'Hello bhavya your email id is bhavyameka@gmail.com. Please enable two factor authentication'\n",
    "match = re.search(r'([\\w.-]+)@([\\w.-]+)', str)\n",
    "if match:\n",
    "    print (match.group())  ## 'b@google'\n"
   ]
  }
 ],
 "metadata": {
  "kernelspec": {
   "display_name": "Python 3",
   "language": "python",
   "name": "python3"
  },
  "language_info": {
   "codemirror_mode": {
    "name": "ipython",
    "version": 3
   },
   "file_extension": ".py",
   "mimetype": "text/x-python",
   "name": "python",
   "nbconvert_exporter": "python",
   "pygments_lexer": "ipython3",
   "version": "3.8.3"
  }
 },
 "nbformat": 4,
 "nbformat_minor": 4
}
